{
 "cells": [
  {
   "cell_type": "markdown",
   "metadata": {},
   "source": [
    "### Alexandre Francony\n",
    "\n",
    "# PW3-Supervised Machine Learning : A basic supervised Learning algorithms\n",
    "## 1 Summary\n",
    "\n",
    "In this lesson, we focus on supervised learning problems: the aim is to develop algorithms able to learn predictive\n",
    "models. Based on labeled examples, these models will be able to predict the label of new objects. The aim of this\n",
    "PW is to develop the general concepts with Scikit-learn allowing us to formalize this category of problem. Here\n",
    "a definition of supervised learning concept:\n",
    "Definition: Supervised learning is a machine learning technique where an algorithm learns from labeled data to make\n",
    "predictions or decisions. It is widely applied in various domains, such as classifying emails as spam or non-\n",
    "spam, predicting housing prices based on different factors, or detecting anomalies in datasets. Scikit-learn, a\n",
    "popular Python library, provides a comprehensive set of tools and algorithms for supervised learning tasks.\n",
    "Our Objectives are\n",
    "\n",
    "• Formalize a problem as a supervised learning problem;\n",
    "\n",
    "• select an appropriate cost function;\n",
    "\n",
    "• Look for its generalization\n",
    "\n",
    "### Problem statement and notation\n",
    "\n",
    "Supervised learning problem can be formalized as follows: given n observations {x1,x2,...xn}, where each\n",
    "observation xiis an element of the space of observations X , and their labels {y1,y2,...yn}, where each label yi\n",
    "belongs to the label space Y. The aim of supervised learning is to find a function f : X →Y such that f(x) ≈y,\n",
    "for all pairs (x,y) ∈X ×Y having the same relationship as the observed pairs. The set of D = (xi,yi)i = 1,...,n\n",
    "forms the training set. In this lesson, we will consider three special cases for Y :\n",
    "\n",
    "• Y = R: we deal with a regression problem;\n",
    "\n",
    "• Y = {0,1}: this is called a binary \n",
    "\n",
    "classification problem, and observations whose label 0 are called negative,\n",
    "while those with a label of 1 are called positive. In some cases, it is mathematically useful to use Y =\n",
    "{−1,1};\n",
    "\n",
    "• Y = {1,2,...C},C > 2: this is known as a multi-class classification problem.\n",
    "\n",
    "In many situations, we assume we have X = Rp where the observations are represented by p variables. In this\n",
    "case, the matrix X ∈Rn×p such that Xij = xij is the jth variable of the ith observation is called the data matrix.\n",
    "\n",
    "### Decision\n",
    "n the case of a classification problem, the predictive model can take the form of a function f with values in {0,1},\n",
    "or use a real-valued intermediate function g, which associates a higher score to observations. This score is, for\n",
    "example the probability that the observation belongs to the positive class. We then obtain f by thresholding g ; g\n",
    "is called the decision function.\n",
    "(Decision function) In a binary classification problem, a decision function g, or a discriminant function g : X →\n",
    "Rsuch that f(x) = 0 if and only if g(x) ≤0 and f(x) = 1 if and only if g(x) > 0.\n",
    "(Decision Space) In the case of binary classification, the function g split the observation space X into two decision\n",
    "Areas A0 and A1 such that:\n",
    "A0 = {x ∈X|g(x) ≤0}and A1 = {xinX|g(x) > 0}\n",
    "\n",
    "### Cost Function\n",
    "\n",
    "Solving a supervised learning problem means finding a function f ∈F whose predictions are as close as possible\n",
    "to the true labels, over the whole space X . It is a Minimizing empirical risk. To formalize this, we use the notion\n",
    "of cost function.\n",
    "(Cost function) A cost function L : Y ×Y →R, also called loss function or error function, is a function used to\n",
    "quantify the quality of a prediction: L(y,f(x)) is greater the closer the label f(x) is to the true value y.\n",
    "\n",
    "## 2 Exercises\n",
    "\n",
    "### Exercise 1 : Scale the data\n",
    "\n",
    "You will need the dataset Wine quality, with Quality column has two classes good and bad. We should classify\n",
    "any a given wine into two classes based on the following features:"
   ]
  },
  {
   "cell_type": "code",
   "execution_count": 227,
   "metadata": {},
   "outputs": [],
   "source": [
    "import matplotlib.pyplot as plt\n",
    "import pandas as pd\n",
    "from sklearn.preprocessing import StandardScaler, MinMaxScaler\n",
    "from sklearn.model_selection import train_test_split\n",
    "from sklearn.linear_model import LinearRegression\n",
    "from sklearn.metrics import mean_squared_error, r2_score\n",
    "from sklearn.pipeline import Pipeline\n",
    "from sklearn.linear_model import LogisticRegression\n",
    "from sklearn.metrics import accuracy_score, classification_report, confusion_matrix, precision_score, recall_score, f1_score"
   ]
  },
  {
   "cell_type": "markdown",
   "metadata": {},
   "source": [
    "1. Read the Dataset, store the data into a variable ’wine data’ and print the basic information and statistics.\n",
    "The date could be found online from this URL: Red-Wine"
   ]
  },
  {
   "cell_type": "code",
   "execution_count": 228,
   "metadata": {},
   "outputs": [
    {
     "name": "stdout",
     "output_type": "stream",
     "text": [
      "<class 'pandas.core.frame.DataFrame'>\n",
      "RangeIndex: 4898 entries, 0 to 4897\n",
      "Data columns (total 12 columns):\n",
      " #   Column                Non-Null Count  Dtype  \n",
      "---  ------                --------------  -----  \n",
      " 0   fixed acidity         4898 non-null   float64\n",
      " 1   volatile acidity      4898 non-null   float64\n",
      " 2   citric acid           4898 non-null   float64\n",
      " 3   residual sugar        4898 non-null   float64\n",
      " 4   chlorides             4898 non-null   float64\n",
      " 5   free sulfur dioxide   4898 non-null   float64\n",
      " 6   total sulfur dioxide  4898 non-null   float64\n",
      " 7   density               4898 non-null   float64\n",
      " 8   pH                    4898 non-null   float64\n",
      " 9   sulphates             4898 non-null   float64\n",
      " 10  alcohol               4898 non-null   float64\n",
      " 11  quality               4898 non-null   int64  \n",
      "dtypes: float64(11), int64(1)\n",
      "memory usage: 459.3 KB\n",
      "None\n",
      "       fixed acidity  volatile acidity  citric acid  residual sugar  \\\n",
      "count    4898.000000       4898.000000  4898.000000     4898.000000   \n",
      "mean        6.854788          0.278241     0.334192        6.391415   \n",
      "std         0.843868          0.100795     0.121020        5.072058   \n",
      "min         3.800000          0.080000     0.000000        0.600000   \n",
      "25%         6.300000          0.210000     0.270000        1.700000   \n",
      "50%         6.800000          0.260000     0.320000        5.200000   \n",
      "75%         7.300000          0.320000     0.390000        9.900000   \n",
      "max        14.200000          1.100000     1.660000       65.800000   \n",
      "\n",
      "         chlorides  free sulfur dioxide  total sulfur dioxide      density  \\\n",
      "count  4898.000000          4898.000000           4898.000000  4898.000000   \n",
      "mean      0.045772            35.308085            138.360657     0.994027   \n",
      "std       0.021848            17.007137             42.498065     0.002991   \n",
      "min       0.009000             2.000000              9.000000     0.987110   \n",
      "25%       0.036000            23.000000            108.000000     0.991723   \n",
      "50%       0.043000            34.000000            134.000000     0.993740   \n",
      "75%       0.050000            46.000000            167.000000     0.996100   \n",
      "max       0.346000           289.000000            440.000000     1.038980   \n",
      "\n",
      "                pH    sulphates      alcohol      quality  \n",
      "count  4898.000000  4898.000000  4898.000000  4898.000000  \n",
      "mean      3.188267     0.489847    10.514267     5.877909  \n",
      "std       0.151001     0.114126     1.230621     0.885639  \n",
      "min       2.720000     0.220000     8.000000     3.000000  \n",
      "25%       3.090000     0.410000     9.500000     5.000000  \n",
      "50%       3.180000     0.470000    10.400000     6.000000  \n",
      "75%       3.280000     0.550000    11.400000     6.000000  \n",
      "max       3.820000     1.080000    14.200000     9.000000  \n"
     ]
    }
   ],
   "source": [
    "# Read the dataset from the URL\n",
    "wine_data = pd.read_csv('data/winequality-white.csv', delimiter=';')\n",
    "\n",
    "# Print basic information and statistics\n",
    "print(wine_data.info())\n",
    "print(wine_data.describe())"
   ]
  },
  {
   "cell_type": "markdown",
   "metadata": {},
   "source": [
    "2. transform the wine data into a dataframe using pandas.DataFrame. function and as parameters wine data.values,\n",
    "wine data.columns\n"
   ]
  },
  {
   "cell_type": "code",
   "execution_count": 229,
   "metadata": {},
   "outputs": [
    {
     "name": "stdout",
     "output_type": "stream",
     "text": [
      "   fixed acidity  volatile acidity  citric acid  residual sugar  chlorides  \\\n",
      "0            7.0              0.27         0.36            20.7      0.045   \n",
      "1            6.3              0.30         0.34             1.6      0.049   \n",
      "2            8.1              0.28         0.40             6.9      0.050   \n",
      "3            7.2              0.23         0.32             8.5      0.058   \n",
      "4            7.2              0.23         0.32             8.5      0.058   \n",
      "\n",
      "   free sulfur dioxide  total sulfur dioxide  density    pH  sulphates  \\\n",
      "0                 45.0                 170.0   1.0010  3.00       0.45   \n",
      "1                 14.0                 132.0   0.9940  3.30       0.49   \n",
      "2                 30.0                  97.0   0.9951  3.26       0.44   \n",
      "3                 47.0                 186.0   0.9956  3.19       0.40   \n",
      "4                 47.0                 186.0   0.9956  3.19       0.40   \n",
      "\n",
      "   alcohol  quality  \n",
      "0      8.8      6.0  \n",
      "1      9.5      6.0  \n",
      "2     10.1      6.0  \n",
      "3      9.9      6.0  \n",
      "4      9.9      6.0  \n"
     ]
    }
   ],
   "source": [
    "wine_df = pd.DataFrame(wine_data.values, columns=wine_data.columns)\n",
    "print(wine_df.head())"
   ]
  },
  {
   "cell_type": "markdown",
   "metadata": {},
   "source": [
    "3. check if there are missing values\n"
   ]
  },
  {
   "cell_type": "code",
   "execution_count": 230,
   "metadata": {},
   "outputs": [
    {
     "name": "stdout",
     "output_type": "stream",
     "text": [
      "fixed acidity           0\n",
      "volatile acidity        0\n",
      "citric acid             0\n",
      "residual sugar          0\n",
      "chlorides               0\n",
      "free sulfur dioxide     0\n",
      "total sulfur dioxide    0\n",
      "density                 0\n",
      "pH                      0\n",
      "sulphates               0\n",
      "alcohol                 0\n",
      "quality                 0\n",
      "dtype: int64\n"
     ]
    }
   ],
   "source": [
    "# Check for missing values\n",
    "missing_values = wine_df.isnull().sum()\n",
    "print(missing_values)"
   ]
  },
  {
   "cell_type": "markdown",
   "metadata": {},
   "source": [
    "4. Drop the quality column to set the rest of the data into a variable X using the function drop(data,axis)"
   ]
  },
  {
   "cell_type": "code",
   "execution_count": 231,
   "metadata": {},
   "outputs": [
    {
     "name": "stdout",
     "output_type": "stream",
     "text": [
      "   fixed acidity  volatile acidity  citric acid  residual sugar  chlorides  \\\n",
      "0            7.0              0.27         0.36            20.7      0.045   \n",
      "1            6.3              0.30         0.34             1.6      0.049   \n",
      "2            8.1              0.28         0.40             6.9      0.050   \n",
      "3            7.2              0.23         0.32             8.5      0.058   \n",
      "4            7.2              0.23         0.32             8.5      0.058   \n",
      "\n",
      "   free sulfur dioxide  total sulfur dioxide  density    pH  sulphates  \\\n",
      "0                 45.0                 170.0   1.0010  3.00       0.45   \n",
      "1                 14.0                 132.0   0.9940  3.30       0.49   \n",
      "2                 30.0                  97.0   0.9951  3.26       0.44   \n",
      "3                 47.0                 186.0   0.9956  3.19       0.40   \n",
      "4                 47.0                 186.0   0.9956  3.19       0.40   \n",
      "\n",
      "   alcohol  \n",
      "0      8.8  \n",
      "1      9.5  \n",
      "2     10.1  \n",
      "3      9.9  \n",
      "4      9.9  \n"
     ]
    }
   ],
   "source": [
    "X = wine_df.drop('quality', axis=1)\n",
    "print(X.head())"
   ]
  },
  {
   "cell_type": "markdown",
   "metadata": {},
   "source": [
    "5. copy the column ’quality’ into a new variable Y"
   ]
  },
  {
   "cell_type": "code",
   "execution_count": 232,
   "metadata": {},
   "outputs": [
    {
     "name": "stdout",
     "output_type": "stream",
     "text": [
      "0    6.0\n",
      "1    6.0\n",
      "2    6.0\n",
      "3    6.0\n",
      "4    6.0\n",
      "Name: quality, dtype: float64\n"
     ]
    }
   ],
   "source": [
    "Y = wine_df['quality'].copy()\n",
    "print(Y.head())"
   ]
  },
  {
   "cell_type": "markdown",
   "metadata": {},
   "source": [
    "6. As you can see, the numeric data are with different scales and to avoid misinterpretation of ML results,\n",
    "we want to bring all features to a common scale. Many techniques exist. we commonly use two main\n",
    "techniques: standardization and normalization"
   ]
  },
  {
   "cell_type": "code",
   "execution_count": 233,
   "metadata": {},
   "outputs": [
    {
     "name": "stdout",
     "output_type": "stream",
     "text": [
      "Standardized Data:\n",
      " [[ 1.72096961e-01 -8.17699008e-02  2.13280202e-01  2.82134917e+00\n",
      "  -3.53550004e-02  5.69931577e-01  7.44565035e-01  2.33151201e+00\n",
      "  -1.24692128e+00 -3.49184257e-01 -1.39315246e+00]\n",
      " [-6.57501128e-01  2.15895632e-01  4.80011213e-02 -9.44765273e-01\n",
      "   1.47747079e-01 -1.25301866e+00 -1.49684624e-01 -9.15417164e-03\n",
      "   7.40028640e-01  1.34184656e-03 -8.24275678e-01]\n",
      " [ 1.47575110e+00  1.74519434e-02  5.43838363e-01  1.00282190e-01\n",
      "   1.93522599e-01 -3.12141119e-01 -9.73335626e-01  3.58664800e-01\n",
      "   4.75101984e-01 -4.36815783e-01 -3.36667007e-01]\n",
      " [ 4.09124986e-01 -4.78657278e-01 -1.17277959e-01  4.15768217e-01\n",
      "   5.59726758e-01  6.87541270e-01  1.12109121e+00  5.25855242e-01\n",
      "   1.14803354e-02 -7.87341887e-01 -4.99203231e-01]\n",
      " [ 4.09124986e-01 -4.78657278e-01 -1.17277959e-01  4.15768217e-01\n",
      "   5.59726758e-01  6.87541270e-01  1.12109121e+00  5.25855242e-01\n",
      "   1.14803354e-02 -7.87341887e-01 -4.99203231e-01]]\n",
      "Normalized Data:\n",
      " [[0.30769231 0.18627451 0.21686747 0.30828221 0.10682493 0.14982578\n",
      "  0.37354988 0.26778485 0.25454545 0.26744186 0.12903226]\n",
      " [0.24038462 0.21568627 0.20481928 0.01533742 0.11869436 0.04181185\n",
      "  0.28538283 0.13283208 0.52727273 0.31395349 0.24193548]\n",
      " [0.41346154 0.19607843 0.24096386 0.09662577 0.12166172 0.09756098\n",
      "  0.20417633 0.15403894 0.49090909 0.25581395 0.33870968]\n",
      " [0.32692308 0.14705882 0.19277108 0.12116564 0.14540059 0.15679443\n",
      "  0.41067285 0.16367843 0.42727273 0.20930233 0.30645161]\n",
      " [0.32692308 0.14705882 0.19277108 0.12116564 0.14540059 0.15679443\n",
      "  0.41067285 0.16367843 0.42727273 0.20930233 0.30645161]]\n"
     ]
    }
   ],
   "source": [
    "# Standardization\n",
    "scaler_standard = StandardScaler()\n",
    "X_standardized = scaler_standard.fit_transform(X)\n",
    "\n",
    "# Normalization\n",
    "scaler_normal = MinMaxScaler()\n",
    "X_normalized = scaler_normal.fit_transform(X)\n",
    "\n",
    "print(\"Standardized Data:\\n\", X_standardized[:5])\n",
    "print(\"Normalized Data:\\n\", X_normalized[:5])"
   ]
  },
  {
   "cell_type": "markdown",
   "metadata": {},
   "source": [
    "7. Create the training and test datasets : x train, x test, y train, y test with 30% for test and random state=20.\n",
    "What is the role of random state?\n"
   ]
  },
  {
   "cell_type": "code",
   "execution_count": 234,
   "metadata": {},
   "outputs": [
    {
     "name": "stdout",
     "output_type": "stream",
     "text": [
      "Training set size: (3428, 11)\n",
      "Test set size: (1470, 11)\n"
     ]
    }
   ],
   "source": [
    "# Split the data into training and test sets\n",
    "x_train, x_test, y_train, y_test = train_test_split(X, Y, test_size=0.3, random_state=20)\n",
    "\n",
    "print(\"Training set size:\", x_train.shape)\n",
    "print(\"Test set size:\", x_test.shape)"
   ]
  },
  {
   "cell_type": "markdown",
   "metadata": {},
   "source": [
    "8. Use the correct scale and apply it to the train and test data set.\n"
   ]
  },
  {
   "cell_type": "code",
   "execution_count": 235,
   "metadata": {},
   "outputs": [
    {
     "name": "stdout",
     "output_type": "stream",
     "text": [
      "Standardized Training Data:\n",
      " [[-5.38987115e-01 -1.07398834e+00  4.80011213e-02 -9.64483150e-01\n",
      "   2.07031891e+00  3.93517038e-01 -7.90859669e-02 -7.60303484e-02\n",
      "   4.08870320e-01  1.34184656e-03 -7.43007566e-01]\n",
      " [ 2.30534919e+00  5.13561164e-01  8.74396524e-01 -8.16613165e-03\n",
      "  -9.96640918e-01 -1.54704289e+00 -1.20866448e+00 -7.78230204e-01\n",
      "  -1.51184794e+00 -7.87341887e-01  1.69503579e+00]\n",
      " [-1.60561323e+00 -8.75544654e-01 -5.30475661e-01 -1.08279041e+00\n",
      "  -2.64232600e-01  9.81565502e-01 -8.32138311e-01 -1.25973868e+00\n",
      "   2.06466192e+00 -8.74973413e-01  5.57282222e-01]\n",
      " [-7.76015140e-01 -8.17699008e-02 -1.17277959e-01 -1.80250700e-02\n",
      "   1.01971559e-01  6.87541270e-01  4.85703291e-01 -4.03723614e-01\n",
      "   1.43943663e-01  9.65288632e-01  3.94745998e-01]\n",
      " [-6.49310643e-02 -2.80213589e-01 -5.30475661e-01  8.49561503e-01\n",
      "   1.38368612e+00  6.87541270e-01  3.68038862e-01  8.93674214e-01\n",
      "  -9.15762961e-01 -9.62604939e-01 -1.23061624e+00]]\n",
      "Standardized Test Data:\n",
      " [[-0.18344508  0.01745194  0.04800112  0.49463972  0.10197156 -0.19453143\n",
      "  -0.64387523  0.17475531  0.40887032  0.43949948  0.394746  ]\n",
      " [ 2.54237721  0.11667379  0.04800112  1.12561178 -0.7219878  -0.07692173\n",
      "   0.90929523  1.01405133 -0.38590965 -0.17392121  0.06967355]\n",
      " [ 0.05358295 -0.87554465  0.37855928 -1.03349572 -1.04241644 -0.31214112\n",
      "  -0.78507254 -1.18951869 -0.51837298 -0.96260494  0.71981845]\n",
      " [-0.4204731  -1.07398834 -0.03463842 -0.98420103 -0.81353884 -1.25301866\n",
      "  -0.92626985 -0.41041123  0.27640699  0.527131   -0.33666701]\n",
      " [ 0.88318104 -0.77632281 -0.1999175  -0.98420103  0.05619604  0.33471219\n",
      "   0.08564423 -0.2097827   1.60104027  0.35186795 -0.33666701]]\n",
      "Normalized Training Data:\n",
      " [[0.25       0.08823529 0.20481928 0.01380368 0.24332344 0.13937282\n",
      "  0.29234339 0.12897629 0.48181818 0.31395349 0.25806452]\n",
      " [0.48076923 0.24509804 0.26506024 0.08819018 0.04451039 0.02439024\n",
      "  0.18097448 0.08849046 0.21818182 0.20930233 0.74193548]\n",
      " [0.16346154 0.10784314 0.1626506  0.00460123 0.09198813 0.17421603\n",
      "  0.21809745 0.06072874 0.70909091 0.19767442 0.51612903]\n",
      " [0.23076923 0.18627451 0.19277108 0.08742331 0.115727   0.15679443\n",
      "  0.34802784 0.1100829  0.44545455 0.44186047 0.48387097]\n",
      " [0.28846154 0.16666667 0.1626506  0.15490798 0.19881306 0.15679443\n",
      "  0.33642691 0.18488529 0.3        0.18604651 0.16129032]]\n",
      "Normalized Test Data:\n",
      " [[0.27884615 0.19607843 0.20481928 0.12730061 0.115727   0.10452962\n",
      "  0.23665893 0.14343551 0.48181818 0.37209302 0.48387097]\n",
      " [0.5        0.20588235 0.20481928 0.17638037 0.06231454 0.11149826\n",
      "  0.38979118 0.19182572 0.37272727 0.29069767 0.41935484]\n",
      " [0.29807692 0.10784314 0.22891566 0.00843558 0.04154303 0.09756098\n",
      "  0.22273782 0.06477733 0.35454545 0.18604651 0.5483871 ]\n",
      " [0.25961538 0.08823529 0.19879518 0.01226994 0.05637982 0.04181185\n",
      "  0.20881671 0.10969732 0.46363636 0.38372093 0.33870968]\n",
      " [0.36538462 0.11764706 0.18674699 0.01226994 0.11275964 0.1358885\n",
      "  0.30858469 0.1212647  0.64545455 0.36046512 0.33870968]]\n"
     ]
    }
   ],
   "source": [
    "# Apply standardization to the train and test datasets\n",
    "x_train_standardized = scaler_standard.transform(x_train)\n",
    "x_test_standardized = scaler_standard.transform(x_test)\n",
    "\n",
    "# Apply normalization to the train and test datasets\n",
    "x_train_normalized = scaler_normal.transform(x_train)\n",
    "x_test_normalized = scaler_normal.transform(x_test)\n",
    "\n",
    "print(\"Standardized Training Data:\\n\", x_train_standardized[:5])\n",
    "print(\"Standardized Test Data:\\n\", x_test_standardized[:5])\n",
    "print(\"Normalized Training Data:\\n\", x_train_normalized[:5])\n",
    "print(\"Normalized Test Data:\\n\", x_test_normalized[:5])"
   ]
  },
  {
   "cell_type": "markdown",
   "metadata": {},
   "source": [
    "9. Formalize the problem as a linear regression model and implement it using the appropriate function.\n"
   ]
  },
  {
   "cell_type": "code",
   "execution_count": 236,
   "metadata": {},
   "outputs": [
    {
     "name": "stdout",
     "output_type": "stream",
     "text": [
      "Coefficients: [ 3.31145230e-02 -1.82038106e-01 -2.66556160e-05  3.83416602e-01\n",
      " -9.91113036e-03  8.96198145e-02 -3.01463831e-02 -3.85013522e-01\n",
      "  9.34259732e-02  5.59975192e-02  2.57031038e-01]\n",
      "Intercept: 5.879896150244012\n"
     ]
    }
   ],
   "source": [
    "# Initialize the linear regression model\n",
    "linear_regressor = LinearRegression()\n",
    "\n",
    "# Fit the model to the training data\n",
    "linear_regressor.fit(x_train_standardized, y_train)\n",
    "\n",
    "# Print the coefficients and intercept\n",
    "print(\"Coefficients:\", linear_regressor.coef_)\n",
    "print(\"Intercept:\", linear_regressor.intercept_)"
   ]
  },
  {
   "cell_type": "markdown",
   "metadata": {},
   "source": [
    "10. with scikit learn, use LinearRegression() class after the import as following : from sklearn.linear model\n",
    "import LinearRegression\n"
   ]
  },
  {
   "cell_type": "code",
   "execution_count": 237,
   "metadata": {},
   "outputs": [
    {
     "name": "stdout",
     "output_type": "stream",
     "text": [
      "Predictions: [6.15825113 5.92896534 6.19147158 5.7346342  5.86348472]\n"
     ]
    }
   ],
   "source": [
    "# Fit the model to the standardized training data\n",
    "linear_regressor.fit(x_train_standardized, y_train)\n",
    "\n",
    "# Predict on the standardized test data\n",
    "y_pred = linear_regressor.predict(x_test_standardized)\n",
    "\n",
    "# Print the first few predictions\n",
    "print(\"Predictions:\", y_pred[:5])"
   ]
  },
  {
   "cell_type": "markdown",
   "metadata": {},
   "source": [
    "11. fit your model\n"
   ]
  },
  {
   "cell_type": "code",
   "execution_count": 238,
   "metadata": {},
   "outputs": [
    {
     "name": "stdout",
     "output_type": "stream",
     "text": [
      "Coefficients: [ 3.31145230e-02 -1.82038106e-01 -2.66556160e-05  3.83416602e-01\n",
      " -9.91113036e-03  8.96198145e-02 -3.01463831e-02 -3.85013522e-01\n",
      "  9.34259732e-02  5.59975192e-02  2.57031038e-01]\n",
      "Intercept: 5.879896150244012\n"
     ]
    }
   ],
   "source": [
    "# Fit the model to the standardized training data\n",
    "linear_regressor.fit(x_train_standardized, y_train)\n",
    "\n",
    "# Print the coefficients and intercept\n",
    "print(\"Coefficients:\", linear_regressor.coef_)\n",
    "print(\"Intercept:\", linear_regressor.intercept_)"
   ]
  },
  {
   "cell_type": "markdown",
   "metadata": {},
   "source": [
    "12. predict on your test dataset\n"
   ]
  },
  {
   "cell_type": "code",
   "execution_count": 239,
   "metadata": {},
   "outputs": [
    {
     "name": "stdout",
     "output_type": "stream",
     "text": [
      "Predictions: [6.15825113 5.92896534 6.19147158 5.7346342  5.86348472]\n"
     ]
    }
   ],
   "source": [
    "# Predict on the standardized test data\n",
    "y_pred = linear_regressor.predict(x_test_standardized)\n",
    "\n",
    "# Print the first few predictions\n",
    "print(\"Predictions:\", y_pred[:5])"
   ]
  },
  {
   "cell_type": "markdown",
   "metadata": {},
   "source": [
    "13. calculate the mean square error on the test dataset using : from sklearn.metrics import mean squared error,\n",
    "r2 score"
   ]
  },
  {
   "cell_type": "code",
   "execution_count": 240,
   "metadata": {},
   "outputs": [
    {
     "name": "stdout",
     "output_type": "stream",
     "text": [
      "Mean Squared Error: 0.6028229341410911\n",
      "R-squared: 0.26788524013845805\n"
     ]
    }
   ],
   "source": [
    "# Calculate the mean squared error\n",
    "mse = mean_squared_error(y_test, y_pred)\n",
    "print(\"Mean Squared Error:\", mse)\n",
    "\n",
    "# Calculate the R-squared score\n",
    "r2 = r2_score(y_test, y_pred)\n",
    "print(\"R-squared:\", r2)"
   ]
  },
  {
   "cell_type": "markdown",
   "metadata": {},
   "source": [
    "### Exercise 2 : Prediction pipeline and evaluation\n",
    "\n",
    "We can remark, the lack of the linear model to predict the right quality based on the input features : Mean Squared\n",
    "Error mse: 0.6215899256984494 is very high and the R-squared R2: 0.25761478584858577 is low. With a\n",
    "prediction based on a linear regression model, we needed two parameters to evaluate the model performance. However to evaluate the goodness of fit of a regression model we need the (R2).\n",
    "We would compare the same prediction by changing different parameters as: random state, the transformer,\n",
    "etc. To do this in a right way, we have to implement pipelines."
   ]
  },
  {
   "cell_type": "markdown",
   "metadata": {},
   "source": [
    "1. write a python function named LR Pipeline with the signature"
   ]
  },
  {
   "cell_type": "code",
   "execution_count": 241,
   "metadata": {},
   "outputs": [],
   "source": [
    "def LR_Pipeline(scaler):\n",
    "    # Create a pipeline with the scaler and linear regression model\n",
    "    my_pipeline = Pipeline([\n",
    "        ('scaler', scaler),\n",
    "        ('regressor', LinearRegression())\n",
    "    ])\n",
    "    return my_pipeline"
   ]
  },
  {
   "cell_type": "markdown",
   "metadata": {},
   "source": [
    "allowing you to create your pipeline with the following steps : 1) scale data, 2) predict. Your function need\n",
    "the scaler as a parameter to be able to call MinMaxScaler() as standardScaler()"
   ]
  },
  {
   "cell_type": "markdown",
   "metadata": {},
   "source": [
    "2. call your function with the standardscaler and compare the results with a random-state equal to 20. Com-\n",
    "ment your results!"
   ]
  },
  {
   "cell_type": "markdown",
   "metadata": {},
   "source": [
    "3. Plot the quality prediction VS. the real quality in the case of the best configuration of your predictor model."
   ]
  },
  {
   "cell_type": "code",
   "execution_count": 242,
   "metadata": {},
   "outputs": [
    {
     "data": {
      "image/png": "[encoded data removed]",
      "text/plain": [
       "<Figure size 640x480 with 1 Axes>"
      ]
     },
     "metadata": {},
     "output_type": "display_data"
    }
   ],
   "source": [
    "# Visualize the predicted vs. actual values\n",
    "plt.scatter(y_test, y_pred)\n",
    "plt.xlabel(\"Real Wine Quality\")\n",
    "plt.ylabel(\"Predicted Wine Quality\")\n",
    "plt.title(\"Real vs. Predicted Wine Quality\")\n",
    "plt.show()"
   ]
  },
  {
   "cell_type": "markdown",
   "metadata": {},
   "source": [
    "4. If we note Θ = (θ1,..,θ11) and B the estimated parameters of our predictor model, try to display them from\n",
    "your pipeline and write the exact formula of your predictor."
   ]
  },
  {
   "cell_type": "code",
   "execution_count": 243,
   "metadata": {},
   "outputs": [
    {
     "name": "stdout",
     "output_type": "stream",
     "text": [
      "Coefficients (Θ): [ 3.31145230e-02 -1.82038106e-01 -2.66556160e-05  3.83416602e-01\n",
      " -9.91113036e-03  8.96198145e-02 -3.01463831e-02 -3.85013522e-01\n",
      "  9.34259732e-02  5.59975192e-02  2.57031038e-01]\n",
      "Intercept (B): 5.879896150244012\n"
     ]
    }
   ],
   "source": [
    "# Access the coefficients (Θ)\n",
    "coefficients = linear_regressor.coef_\n",
    "\n",
    "# Access the intercept (B)\n",
    "intercept = linear_regressor.intercept_\n",
    "\n",
    "print(\"Coefficients (Θ):\", coefficients)\n",
    "print(\"Intercept (B):\", intercept)"
   ]
  },
  {
   "cell_type": "markdown",
   "metadata": {},
   "source": [
    "5. Fit and predict the wine quality with the same model after normalizing the target feature Y . Compare the\n",
    "following resultas without the normalization of Y . What are your comments."
   ]
  },
  {
   "cell_type": "code",
   "execution_count": 244,
   "metadata": {},
   "outputs": [
    {
     "name": "stdout",
     "output_type": "stream",
     "text": [
      "Predictions (original scale): [6.15825113 5.92896534 6.19147158 5.7346342  5.86348472]\n",
      "Mean Squared Error (with normalized Y): 0.602822934141091\n",
      "R-squared (with normalized Y): 0.26788524013845816\n"
     ]
    }
   ],
   "source": [
    "# Normalize the target feature Y\n",
    "scaler_y = MinMaxScaler()\n",
    "Y_normalized = scaler_y.fit_transform(Y.values.reshape(-1, 1))\n",
    "\n",
    "# Split the data into training and test sets\n",
    "x_train, x_test, y_train_normalized, y_test_normalized = train_test_split(X, Y_normalized, test_size=0.3, random_state=20)\n",
    "\n",
    "# Apply standardization to the train and test datasets\n",
    "x_train_standardized = scaler_standard.transform(x_train)\n",
    "x_test_standardized = scaler_standard.transform(x_test)\n",
    "\n",
    "# Initialize the linear regression model\n",
    "linear_regressor_normalized = LinearRegression()\n",
    "\n",
    "# Fit the model to the standardized training data with normalized target\n",
    "linear_regressor_normalized.fit(x_train_standardized, y_train_normalized)\n",
    "\n",
    "# Predict on the standardized test data\n",
    "y_pred_normalized = linear_regressor_normalized.predict(x_test_standardized)\n",
    "\n",
    "# Inverse transform the predictions to get them back to the original scale\n",
    "y_pred_original_scale = scaler_y.inverse_transform(y_pred_normalized)\n",
    "\n",
    "# Print the first few predictions\n",
    "print(\"Predictions (original scale):\", y_pred_original_scale[:5].flatten())\n",
    "\n",
    "# Calculate the mean squared error\n",
    "mse_normalized = mean_squared_error(y_test, y_pred_original_scale)\n",
    "print(\"Mean Squared Error (with normalized Y):\", mse_normalized)\n",
    "\n",
    "# Calculate the R-squared score\n",
    "r2_normalized = r2_score(y_test, y_pred_original_scale)\n",
    "print(\"R-squared (with normalized Y):\", r2_normalized)"
   ]
  },
  {
   "cell_type": "markdown",
   "metadata": {},
   "source": [
    "### Exercise 3: Logistic regression\n",
    "We try to explain our wine quality prediction to a classification problem aiming to distinguish between good and\n",
    "bad wines. Let suppose we have two binary classes defined as follow: if the wine quality is greater than 5, the\n",
    "label will be 1 and 0 else.\n",
    "\n",
    "1. transform the target output feature y to be {0,1}"
   ]
  },
  {
   "cell_type": "code",
   "execution_count": 245,
   "metadata": {},
   "outputs": [
    {
     "name": "stdout",
     "output_type": "stream",
     "text": [
      "0    1\n",
      "1    1\n",
      "2    1\n",
      "3    1\n",
      "4    1\n",
      "Name: quality, dtype: int32\n"
     ]
    }
   ],
   "source": [
    "# Transform the target output feature y to be binary {0, 1}\n",
    "Y_binary = (wine_df['quality'] > 5).astype(int)\n",
    "print(Y_binary.head())"
   ]
  },
  {
   "cell_type": "markdown",
   "metadata": {},
   "source": [
    "2. define an other function for your pipeline taking as parameters the scaler and the predictor model."
   ]
  },
  {
   "cell_type": "code",
   "execution_count": 246,
   "metadata": {},
   "outputs": [],
   "source": [
    "def Reg_Pipeline(scaler, model):\n",
    "    # Create a pipeline with the scaler and the provided model\n",
    "    my_pipeline = Pipeline([\n",
    "        ('scaler', scaler),\n",
    "        ('regressor', model)\n",
    "    ])\n",
    "    return my_pipeline"
   ]
  },
  {
   "cell_type": "markdown",
   "metadata": {},
   "source": [
    "3. Fit and predict your pipeline with a standardscaler and LogisticRegression model."
   ]
  },
  {
   "cell_type": "code",
   "execution_count": 247,
   "metadata": {},
   "outputs": [
    {
     "name": "stdout",
     "output_type": "stream",
     "text": [
      "Predictions: [1 1 1 1 1]\n"
     ]
    }
   ],
   "source": [
    "# Create the pipeline with StandardScaler and LogisticRegression\n",
    "pipeline = Reg_Pipeline(StandardScaler(), LogisticRegression())\n",
    "\n",
    "# Split the data into training and test sets\n",
    "x_train, x_test, y_train, y_test = train_test_split(X, Y_binary, test_size=0.3, random_state=20)\n",
    "\n",
    "# Fit the pipeline to the training data\n",
    "pipeline.fit(x_train, y_train)\n",
    "\n",
    "# Predict on the test data\n",
    "pred = pipeline.predict(x_test)\n",
    "\n",
    "# Print the first few predictions\n",
    "print(\"Predictions:\", pred[:5])"
   ]
  },
  {
   "cell_type": "markdown",
   "metadata": {},
   "source": [
    "4. Now we try to evaluate the classification performance."
   ]
  },
  {
   "cell_type": "code",
   "execution_count": 248,
   "metadata": {},
   "outputs": [
    {
     "name": "stdout",
     "output_type": "stream",
     "text": [
      "Accuracy: 0.7489795918367347\n",
      "Confusion Matrix:\n",
      " [[245 254]\n",
      " [115 856]]\n",
      "Classification Report:\n",
      "               precision    recall  f1-score   support\n",
      "\n",
      "           0       0.68      0.49      0.57       499\n",
      "           1       0.77      0.88      0.82       971\n",
      "\n",
      "    accuracy                           0.75      1470\n",
      "   macro avg       0.73      0.69      0.70      1470\n",
      "weighted avg       0.74      0.75      0.74      1470\n",
      "\n"
     ]
    }
   ],
   "source": [
    "accuracy = accuracy_score(y_test, pred)\n",
    "confusion = confusion_matrix(y_test, pred)\n",
    "classification_rep = classification_report(y_test, pred)\n",
    "\n",
    "print(\"Accuracy:\", accuracy)\n",
    "print(\"Confusion Matrix:\\n\", confusion)\n",
    "print(\"Classification Report:\\n\", classification_rep)"
   ]
  },
  {
   "cell_type": "markdown",
   "metadata": {},
   "source": [
    "5. Check the imbalaced datasets problem by comparing the rate of trained 0 samples VS. 1 samples."
   ]
  },
  {
   "cell_type": "code",
   "execution_count": 249,
   "metadata": {
    "vscode": {
     "languageId": "ruby"
    }
   },
   "outputs": [
    {
     "name": "stdout",
     "output_type": "stream",
     "text": [
      "Class 0 samples: 1141\n",
      "Class 1 samples: 2287\n",
      "Class 0 rate: 0.33284714119019837\n",
      "Class 1 rate: 0.6671528588098017\n"
     ]
    }
   ],
   "source": [
    "# Count the number of samples in each class in the training dataset\n",
    "class_counts = y_train.value_counts()\n",
    "print(\"Class 0 samples:\", class_counts[0])\n",
    "print(\"Class 1 samples:\", class_counts[1])\n",
    "\n",
    "# Calculate the rate of each class\n",
    "class_0_rate = class_counts[0] / len(y_train)\n",
    "class_1_rate = class_counts[1] / len(y_train)\n",
    "print(\"Class 0 rate:\", class_0_rate)\n",
    "print(\"Class 1 rate:\", class_1_rate)"
   ]
  },
  {
   "cell_type": "markdown",
   "metadata": {},
   "source": [
    "### Exercise 4: Naive Bayes classification\n",
    "\n",
    "In this exercise, we are looking for the improvement of Na ̈ıve Bayes to classify the wine quality. Naive Bayes is\n",
    "a simple algorithm aiming to estimate the probabilistic of a random event using the following concepts."
   ]
  },
  {
   "cell_type": "markdown",
   "metadata": {},
   "source": [
    "1. Import the adequate class from Scikit learn to use the Naive Bayes, with a Gaussian distribution Gaus-\n",
    "sianNB.\n"
   ]
  },
  {
   "cell_type": "code",
   "execution_count": 250,
   "metadata": {},
   "outputs": [],
   "source": [
    "from sklearn.naive_bayes import GaussianNB"
   ]
  },
  {
   "cell_type": "markdown",
   "metadata": {},
   "source": [
    "2. Use your pipeline with this new model.\n"
   ]
  },
  {
   "cell_type": "code",
   "execution_count": 251,
   "metadata": {},
   "outputs": [
    {
     "name": "stdout",
     "output_type": "stream",
     "text": [
      "Predictions: [1 0 1 1 1]\n"
     ]
    }
   ],
   "source": [
    "# Create the pipeline with StandardScaler and GaussianNB\n",
    "pipeline_nb = Pipeline([\n",
    "    ('scaler', StandardScaler()),\n",
    "    ('nb', GaussianNB())\n",
    "])\n",
    "\n",
    "# Fit the pipeline to the training data\n",
    "pipeline_nb.fit(x_train, y_train)\n",
    "\n",
    "# Predict on the test data\n",
    "pred_nb = pipeline_nb.predict(x_test)\n",
    "\n",
    "# Print the first few predictions\n",
    "print(\"Predictions:\", pred_nb[:5])"
   ]
  },
  {
   "cell_type": "markdown",
   "metadata": {},
   "source": [
    "3. Fit the model to the training set\n"
   ]
  },
  {
   "cell_type": "code",
   "execution_count": 252,
   "metadata": {},
   "outputs": [
    {
     "data": {
      "text/html": [
       "<style>#sk-container-id-7 {color: black;}#sk-container-id-7 pre{padding: 0;}#sk-container-id-7 div.sk-toggleable {background-color: white;}#sk-container-id-7 label.sk-toggleable__label {cursor: pointer;display: block;width: 100%;margin-bottom: 0;padding: 0.3em;box-sizing: border-box;text-align: center;}#sk-container-id-7 label.sk-toggleable__label-arrow:before {content: \"▸\";float: left;margin-right: 0.25em;color: #696969;}#sk-container-id-7 label.sk-toggleable__label-arrow:hover:before {color: black;}#sk-container-id-7 div.sk-estimator:hover label.sk-toggleable__label-arrow:before {color: black;}#sk-container-id-7 div.sk-toggleable__content {max-height: 0;max-width: 0;overflow: hidden;text-align: left;background-color: #f0f8ff;}#sk-container-id-7 div.sk-toggleable__content pre {margin: 0.2em;color: black;border-radius: 0.25em;background-color: #f0f8ff;}#sk-container-id-7 input.sk-toggleable__control:checked~div.sk-toggleable__content {max-height: 200px;max-width: 100%;overflow: auto;}#sk-container-id-7 input.sk-toggleable__control:checked~label.sk-toggleable__label-arrow:before {content: \"▾\";}#sk-container-id-7 div.sk-estimator input.sk-toggleable__control:checked~label.sk-toggleable__label {background-color: #d4ebff;}#sk-container-id-7 div.sk-label input.sk-toggleable__control:checked~label.sk-toggleable__label {background-color: #d4ebff;}#sk-container-id-7 input.sk-hidden--visually {border: 0;clip: rect(1px 1px 1px 1px);clip: rect(1px, 1px, 1px, 1px);height: 1px;margin: -1px;overflow: hidden;padding: 0;position: absolute;width: 1px;}#sk-container-id-7 div.sk-estimator {font-family: monospace;background-color: #f0f8ff;border: 1px dotted black;border-radius: 0.25em;box-sizing: border-box;margin-bottom: 0.5em;}#sk-container-id-7 div.sk-estimator:hover {background-color: #d4ebff;}#sk-container-id-7 div.sk-parallel-item::after {content: \"\";width: 100%;border-bottom: 1px solid gray;flex-grow: 1;}#sk-container-id-7 div.sk-label:hover label.sk-toggleable__label {background-color: #d4ebff;}#sk-container-id-7 div.sk-serial::before {content: \"\";position: absolute;border-left: 1px solid gray;box-sizing: border-box;top: 0;bottom: 0;left: 50%;z-index: 0;}#sk-container-id-7 div.sk-serial {display: flex;flex-direction: column;align-items: center;background-color: white;padding-right: 0.2em;padding-left: 0.2em;position: relative;}#sk-container-id-7 div.sk-item {position: relative;z-index: 1;}#sk-container-id-7 div.sk-parallel {display: flex;align-items: stretch;justify-content: center;background-color: white;position: relative;}#sk-container-id-7 div.sk-item::before, #sk-container-id-7 div.sk-parallel-item::before {content: \"\";position: absolute;border-left: 1px solid gray;box-sizing: border-box;top: 0;bottom: 0;left: 50%;z-index: -1;}#sk-container-id-7 div.sk-parallel-item {display: flex;flex-direction: column;z-index: 1;position: relative;background-color: white;}#sk-container-id-7 div.sk-parallel-item:first-child::after {align-self: flex-end;width: 50%;}#sk-container-id-7 div.sk-parallel-item:last-child::after {align-self: flex-start;width: 50%;}#sk-container-id-7 div.sk-parallel-item:only-child::after {width: 0;}#sk-container-id-7 div.sk-dashed-wrapped {border: 1px dashed gray;margin: 0 0.4em 0.5em 0.4em;box-sizing: border-box;padding-bottom: 0.4em;background-color: white;}#sk-container-id-7 div.sk-label label {font-family: monospace;font-weight: bold;display: inline-block;line-height: 1.2em;}#sk-container-id-7 div.sk-label-container {text-align: center;}#sk-container-id-7 div.sk-container {/* jupyter's `normalize.less` sets `[hidden] { display: none; }` but bootstrap.min.css set `[hidden] { display: none !important; }` so we also need the `!important` here to be able to override the default hidden behavior on the sphinx rendered scikit-learn.org. See: https://github.com/scikit-learn/scikit-learn/issues/21755 */display: inline-block !important;position: relative;}#sk-container-id-7 div.sk-text-repr-fallback {display: none;}</style><div id=\"sk-container-id-7\" class=\"sk-top-container\"><div class=\"sk-text-repr-fallback\"><pre>Pipeline(steps=[(&#x27;scaler&#x27;, StandardScaler()), (&#x27;nb&#x27;, GaussianNB())])</pre><b>In a Jupyter environment, please rerun this cell to show the HTML representation or trust the notebook. <br />On GitHub, the HTML representation is unable to render, please try loading this page with nbviewer.org.</b></div><div class=\"sk-container\" hidden><div class=\"sk-item sk-dashed-wrapped\"><div class=\"sk-label-container\"><div class=\"sk-label sk-toggleable\"><input class=\"sk-toggleable__control sk-hidden--visually\" id=\"sk-estimator-id-19\" type=\"checkbox\" ><label for=\"sk-estimator-id-19\" class=\"sk-toggleable__label sk-toggleable__label-arrow\">Pipeline</label><div class=\"sk-toggleable__content\"><pre>Pipeline(steps=[(&#x27;scaler&#x27;, StandardScaler()), (&#x27;nb&#x27;, GaussianNB())])</pre></div></div></div><div class=\"sk-serial\"><div class=\"sk-item\"><div class=\"sk-estimator sk-toggleable\"><input class=\"sk-toggleable__control sk-hidden--visually\" id=\"sk-estimator-id-20\" type=\"checkbox\" ><label for=\"sk-estimator-id-20\" class=\"sk-toggleable__label sk-toggleable__label-arrow\">StandardScaler</label><div class=\"sk-toggleable__content\"><pre>StandardScaler()</pre></div></div></div><div class=\"sk-item\"><div class=\"sk-estimator sk-toggleable\"><input class=\"sk-toggleable__control sk-hidden--visually\" id=\"sk-estimator-id-21\" type=\"checkbox\" ><label for=\"sk-estimator-id-21\" class=\"sk-toggleable__label sk-toggleable__label-arrow\">GaussianNB</label><div class=\"sk-toggleable__content\"><pre>GaussianNB()</pre></div></div></div></div></div></div></div>"
      ],
      "text/plain": [
       "Pipeline(steps=[('scaler', StandardScaler()), ('nb', GaussianNB())])"
      ]
     },
     "execution_count": 252,
     "metadata": {},
     "output_type": "execute_result"
    }
   ],
   "source": [
    "# Fit the pipeline to the training data\n",
    "pipeline_nb.fit(x_train, y_train)"
   ]
  },
  {
   "cell_type": "markdown",
   "metadata": {},
   "source": [
    "4. Predict the classes of your test dataset\n"
   ]
  },
  {
   "cell_type": "code",
   "execution_count": 253,
   "metadata": {},
   "outputs": [
    {
     "name": "stdout",
     "output_type": "stream",
     "text": [
      "Predictions: [1 0 1 1 1]\n"
     ]
    }
   ],
   "source": [
    "# Predict the classes of the test dataset\n",
    "pred_nb = pipeline_nb.predict(x_test)\n",
    "\n",
    "# Print the first few predictions\n",
    "print(\"Predictions:\", pred_nb[:5])"
   ]
  },
  {
   "cell_type": "markdown",
   "metadata": {},
   "source": [
    "5. calculate the confusion matrix, the precision, recall, F-score and accuracy.\n"
   ]
  },
  {
   "cell_type": "code",
   "execution_count": 254,
   "metadata": {},
   "outputs": [
    {
     "name": "stdout",
     "output_type": "stream",
     "text": [
      "Confusion Matrix:\n",
      " [[293 206]\n",
      " [210 761]]\n",
      "Precision: 0.7869700103412617\n",
      "Recall: 0.7837281153450052\n",
      "F1 Score: 0.7853457172342622\n",
      "Accuracy: 0.7170068027210884\n"
     ]
    }
   ],
   "source": [
    "\n",
    "# Calculate the confusion matrix\n",
    "conf_matrix = confusion_matrix(y_test, pred_nb)\n",
    "print(\"Confusion Matrix:\\n\", conf_matrix)\n",
    "\n",
    "# Calculate precision, recall, F-score, and accuracy\n",
    "precision = precision_score(y_test, pred_nb)\n",
    "recall = recall_score(y_test, pred_nb)\n",
    "f1 = f1_score(y_test, pred_nb)\n",
    "accuracy = accuracy_score(y_test, pred_nb)\n",
    "\n",
    "print(\"Precision:\", precision)\n",
    "print(\"Recall:\", recall)\n",
    "print(\"F1 Score:\", f1)\n",
    "print(\"Accuracy:\", accuracy)"
   ]
  },
  {
   "cell_type": "markdown",
   "metadata": {},
   "source": [
    "6. What is your conclusion?"
   ]
  },
  {
   "cell_type": "code",
   "execution_count": null,
   "metadata": {},
   "outputs": [],
   "source": []
  },
  {
   "cell_type": "markdown",
   "metadata": {},
   "source": [
    "### Exercise 5: performance comparison between different models\n",
    "\n",
    "We used three different models to predict wine quality. First, linear regression is used to predict the quality value,\n",
    "not the label. Secondly, two similar models, logistic regression and naive Bayes, are used to predict binary classes\n",
    "of wine quality. We therefore need to decide which model might be appropriate for our problem in the event that\n",
    "these models are comparable."
   ]
  },
  {
   "cell_type": "markdown",
   "metadata": {},
   "source": [
    "1. How we can compare Naive Bayes and Logistic Regression"
   ]
  },
  {
   "cell_type": "code",
   "execution_count": 255,
   "metadata": {},
   "outputs": [
    {
     "name": "stdout",
     "output_type": "stream",
     "text": [
      "Logistic Regression Metrics:\n",
      "Accuracy: 0.7489795918367347\n",
      "Precision: 0.7711711711711712\n",
      "Recall: 0.8815653964984552\n",
      "F1 Score: 0.8226814031715521\n",
      "ROC AUC: 0.6862736802131555\n",
      "\n",
      "Naive Bayes Metrics:\n",
      "Accuracy: 0.7170068027210884\n",
      "Precision: 0.7869700103412617\n",
      "Recall: 0.7837281153450052\n",
      "F1 Score: 0.7853457172342622\n",
      "ROC AUC: 0.6854512320212001\n"
     ]
    },
    {
     "data": {
      "image/png": "[encoded data removed]",
      "text/plain": [
       "<Figure size 640x480 with 1 Axes>"
      ]
     },
     "metadata": {},
     "output_type": "display_data"
    }
   ],
   "source": [
    "from sklearn.metrics import roc_auc_score, roc_curve\n",
    "\n",
    "# Calculate metrics for Logistic Regression\n",
    "accuracy_lr = accuracy_score(y_test, pred)\n",
    "precision_lr = precision_score(y_test, pred)\n",
    "recall_lr = recall_score(y_test, pred)\n",
    "f1_lr = f1_score(y_test, pred)\n",
    "roc_auc_lr = roc_auc_score(y_test, pred)\n",
    "\n",
    "# Calculate metrics for Naive Bayes\n",
    "accuracy_nb = accuracy_score(y_test, pred_nb)\n",
    "precision_nb = precision_score(y_test, pred_nb)\n",
    "recall_nb = recall_score(y_test, pred_nb)\n",
    "f1_nb = f1_score(y_test, pred_nb)\n",
    "roc_auc_nb = roc_auc_score(y_test, pred_nb)\n",
    "\n",
    "# Print the comparison\n",
    "print(\"Logistic Regression Metrics:\")\n",
    "print(\"Accuracy:\", accuracy_lr)\n",
    "print(\"Precision:\", precision_lr)\n",
    "print(\"Recall:\", recall_lr)\n",
    "print(\"F1 Score:\", f1_lr)\n",
    "print(\"ROC AUC:\", roc_auc_lr)\n",
    "\n",
    "print(\"\\nNaive Bayes Metrics:\")\n",
    "print(\"Accuracy:\", accuracy_nb)\n",
    "print(\"Precision:\", precision_nb)\n",
    "print(\"Recall:\", recall_nb)\n",
    "print(\"F1 Score:\", f1_nb)\n",
    "print(\"ROC AUC:\", roc_auc_nb)\n",
    "\n",
    "# Plot ROC curves\n",
    "fpr_lr, tpr_lr, _ = roc_curve(y_test, pipeline.predict_proba(x_test)[:, 1])\n",
    "fpr_nb, tpr_nb, _ = roc_curve(y_test, pipeline_nb.predict_proba(x_test)[:, 1])\n",
    "\n",
    "plt.figure()\n",
    "plt.plot(fpr_lr, tpr_lr, label='Logistic Regression (area = %0.2f)' % roc_auc_lr)\n",
    "plt.plot(fpr_nb, tpr_nb, label='Naive Bayes (area = %0.2f)' % roc_auc_nb)\n",
    "plt.plot([0, 1], [0, 1], 'k--')\n",
    "plt.xlim([0.0, 1.0])\n",
    "plt.ylim([0.0, 1.05])\n",
    "plt.xlabel('False Positive Rate')\n",
    "plt.ylabel('True Positive Rate')\n",
    "plt.title('Receiver Operating Characteristic')\n",
    "plt.legend(loc=\"lower right\")\n",
    "plt.show()"
   ]
  },
  {
   "cell_type": "markdown",
   "metadata": {},
   "source": [
    "2. use the AUC-ROC to decide which model might be validated to this classification problem."
   ]
  },
  {
   "cell_type": "code",
   "execution_count": 256,
   "metadata": {},
   "outputs": [
    {
     "name": "stdout",
     "output_type": "stream",
     "text": [
      "Logistic Regression AUC-ROC: 0.7927471833471268\n",
      "Naive Bayes AUC-ROC: 0.7659128762158716\n",
      "Logistic Regression has a better AUC-ROC score and might be validated for this classification problem.\n"
     ]
    }
   ],
   "source": [
    "# Calculate AUC-ROC for Logistic Regression\n",
    "roc_auc_lr = roc_auc_score(y_test, pipeline.predict_proba(x_test)[:, 1])\n",
    "\n",
    "# Calculate AUC-ROC for Naive Bayes\n",
    "roc_auc_nb = roc_auc_score(y_test, pipeline_nb.predict_proba(x_test)[:, 1])\n",
    "\n",
    "# Print the AUC-ROC scores\n",
    "print(\"Logistic Regression AUC-ROC:\", roc_auc_lr)\n",
    "print(\"Naive Bayes AUC-ROC:\", roc_auc_nb)\n",
    "\n",
    "# Determine which model has the higher AUC-ROC score\n",
    "if roc_auc_lr > roc_auc_nb:\n",
    "    print(\"Logistic Regression has a better AUC-ROC score and might be validated for this classification problem.\")\n",
    "else:\n",
    "    print(\"Naive Bayes has a better AUC-ROC score and might be validated for this classification problem.\")"
   ]
  }
 ],
 "metadata": {
  "kernelspec": {
   "display_name": "Python 3",
   "language": "python",
   "name": "python3"
  },
  "language_info": {
   "codemirror_mode": {
    "name": "ipython",
    "version": 3
   },
   "file_extension": ".py",
   "mimetype": "text/x-python",
   "name": "python",
   "nbconvert_exporter": "python",
   "pygments_lexer": "ipython3",
   "version": "3.12.0"
  }
 },
 "nbformat": 4,
 "nbformat_minor": 2
}
